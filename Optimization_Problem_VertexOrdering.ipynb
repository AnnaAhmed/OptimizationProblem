{
 "cells": [
  {
   "cell_type": "markdown",
   "id": "8bb88329",
   "metadata": {},
   "source": [
    "# BFS and DFS used to determine a vertex ordering with the minimum cost\n",
    "\n",
    "# Vertices and possible parent sets for each vertex are provided in a file, and each parent set has an associated cost."
   ]
  },
  {
   "cell_type": "code",
   "execution_count": 1,
   "id": "06930473",
   "metadata": {},
   "outputs": [
    {
     "name": "stdout",
     "output_type": "stream",
     "text": [
      "Enter the file name: data0.txt\n"
     ]
    }
   ],
   "source": [
    "import copy\n",
    "\n",
    "filename = input(\"Enter the file name: \")\n",
    "# Reading lines from file\n",
    "with open(filename) as f:\n",
    "    lines = f.readlines()"
   ]
  },
  {
   "cell_type": "code",
   "execution_count": 2,
   "id": "cb1ef91d",
   "metadata": {},
   "outputs": [],
   "source": [
    "# To split a line and extract vertex, parent, cost from it\n",
    "def splitting(line):\n",
    "    i = 0\n",
    "    word = \"\"\n",
    "    # str[0] will have vertex, str[1] will have parent set and str[2] will have cost\n",
    "    str = [-1, -1, -1]\n",
    "    commas = 0\n",
    "    while line[i] != '\\n':\n",
    "        if line[i] == ',' and commas == 0:\n",
    "            str[0] = word\n",
    "            word = \"\"\n",
    "            commas += 1\n",
    "            i += 1\n",
    "        if line[i] == \"}\":\n",
    "            word += line[i]\n",
    "            str[1] = word\n",
    "            word = \"\"\n",
    "            i += 2\n",
    "            commas += 1\n",
    "        word += line[i]\n",
    "        i += 1\n",
    "    str[2] = word\n",
    "    return str"
   ]
  },
  {
   "cell_type": "code",
   "execution_count": 3,
   "id": "23aaa698",
   "metadata": {},
   "outputs": [],
   "source": [
    "class Vertex:\n",
    "    def __init__(self, v, p, c):\n",
    "        self.vertex = v\n",
    "        self.parent = p\n",
    "        self.parent_cost = c"
   ]
  },
  {
   "cell_type": "code",
   "execution_count": 4,
   "id": "d223e715",
   "metadata": {},
   "outputs": [],
   "source": [
    "vertices = []  # Stores the vertices\n",
    "\n",
    "# Storing vertices\n",
    "for line in lines:\n",
    "    str = splitting(line)\n",
    "    var = str[0]\n",
    "    if var not in vertices:\n",
    "        vertices.append(var)\n",
    "\n",
    "# Storing parent set and cost\n",
    "i = 0\n",
    "temp_list1 = []\n",
    "temp_list2 = []\n",
    "my_Vertices = []\n",
    "for line in lines:\n",
    "    str = splitting(line)\n",
    "    if str[0] == vertices[i]:\n",
    "        temp_list1.append(str[1])\n",
    "        var = str[2].strip('\\n')\n",
    "        num = float(var)\n",
    "        temp_list2.append(num)\n",
    "    else:\n",
    "        my_Vertices.append(Vertex(vertices[i], temp_list1, temp_list2))\n",
    "        temp_list1 = []\n",
    "        temp_list2 = []\n",
    "        temp_list1.append(str[1])\n",
    "        var = str[2].strip('\\n')\n",
    "        num = float(var)\n",
    "        temp_list2.append(num)\n",
    "        i += 1\n",
    "# Appending the last vertex data here\n",
    "my_Vertices.append(Vertex(vertices[i], temp_list1, temp_list2))\n",
    "temp_list1 = []\n",
    "temp_list2 = []"
   ]
  },
  {
   "cell_type": "code",
   "execution_count": 5,
   "id": "fa494a0f",
   "metadata": {},
   "outputs": [
    {
     "name": "stdout",
     "output_type": "stream",
     "text": [
      "Vertices with their parent set and costs are:\n",
      "Vertex is:   1  Parent set is:  ['{}', '{3}', '{4}', '{5}']  Cost is:  [153.466, 96.093, 97.913, 99.835]\n",
      "Vertex is:   2  Parent set is:  ['{}', '{3}', '{4}', '{5}']  Cost is:  [141.023, 122.446, 121.576, 123.398]\n",
      "Vertex is:   3  Parent set is:  ['{}', '{1}', '{2}', '{1,2}', '{4}', '{5}']  Cost is:  [169.482, 112.109, 150.906, 107.516, 51.681, 41.775]\n",
      "Vertex is:   4  Parent set is:  ['{}', '{1}', '{2}', '{1,2}', '{3}', '{5}']  Cost is:  [169.482, 113.929, 150.036, 108.982, 51.681, 36.188]\n",
      "Vertex is:   5  Parent set is:  ['{}', '{1}', '{2}', '{1,2}', '{3}', '{4}']  Cost is:  [169.802, 116.171, 152.178, 111.473, 42.096, 36.508]\n"
     ]
    }
   ],
   "source": [
    "print(\"Vertices with their parent set and costs are:\")\n",
    "for v in my_Vertices:\n",
    "    print(\"Vertex is:  \", v.vertex, \" Parent set is: \", v.parent, \" Cost is: \", v.parent_cost)"
   ]
  },
  {
   "cell_type": "code",
   "execution_count": 6,
   "id": "7ac0fef1",
   "metadata": {},
   "outputs": [],
   "source": [
    "# The function to calculate minimum cost of a given ordering\n",
    "def minimum_cost(ordering):\n",
    "    cost = 0\n",
    "    # empty_flag used for checking disconnected\n",
    "    empty_flag = False\n",
    "    for element in ordering:\n",
    "        # Getting index of the element\n",
    "        x = ordering.index(element)\n",
    "        # The previous elements in the ordering\n",
    "        previous_elements = copy.deepcopy(ordering[0:x])\n",
    "        ele = int(element)\n",
    "        for v in vertices:\n",
    "            if v == element:\n",
    "                # Getting parents and costs of the element\n",
    "                parents = copy.deepcopy(my_Vertices[ele - 1].parent)\n",
    "                costs = copy.deepcopy(my_Vertices[ele - 1].parent_cost)\n",
    "                while True:\n",
    "                    minimum = min(costs)\n",
    "                    index = costs.index(minimum)\n",
    "                    # Splitting parents, this is done for the nodes that have more than one parent\n",
    "                    parent = copy.deepcopy(parents[index])\n",
    "                    parent = copy.deepcopy(parent.split(\",\"))\n",
    "\n",
    "                    # When parent is not {} we have to retrieve parents like {1} and {1,2}\n",
    "                    if parent[0] != \"{}\":\n",
    "                        for i in range(len(parent)):\n",
    "                            parent[i] = parent[i].strip(\"{}\")\n",
    "\n",
    "                    # empty_flag used to check for disjoint graph\n",
    "                    # If disjoint appears then it will have to select some other minimum cost\n",
    "                    # If {} gives parent cost then simply return making sure that if exists its previous had {} too\n",
    "                    if parent[0] == \"{}\" and empty_flag is False:\n",
    "                        cost += minimum\n",
    "                        break\n",
    "                    # Checks if the parent set that gives minimum is consistent with previous_elements\n",
    "                    flag = all(x in previous_elements for x in parent)\n",
    "                    if flag == True:\n",
    "                        empty_flag = True\n",
    "                        cost += minimum\n",
    "                        break\n",
    "                    else:\n",
    "                        costs[index] = 10000000\n",
    "    return cost"
   ]
  },
  {
   "cell_type": "code",
   "execution_count": 7,
   "id": "dbd689cc",
   "metadata": {},
   "outputs": [],
   "source": [
    "# The TreeNode class\n",
    "class TreeNode:\n",
    "    def __init__(self, data):\n",
    "        self.data = copy.deepcopy(data)\n",
    "        self.children = []\n",
    "\n",
    "    def ret_data(self):\n",
    "        return self.data\n",
    "\n",
    "    def addChild(self, child):\n",
    "        self.children.append(TreeNode(child))\n",
    "\n",
    "    def return_child(self):\n",
    "        return self.children"
   ]
  },
  {
   "cell_type": "code",
   "execution_count": 8,
   "id": "20895436",
   "metadata": {},
   "outputs": [],
   "source": [
    "# Class of Tree\n",
    "class Tree:\n",
    "    def __init__(self):\n",
    "        self.root = None\n",
    "        # variables for dfs algorithm\n",
    "        self.minimum_cost_dfs = 1000000.0\n",
    "        self.minimum_order_dfs = []\n",
    "\n",
    "    def addRoot(self, data):\n",
    "        self.root = TreeNode(data)\n",
    "\n",
    "    # The function makes permutations by swapping and adds in the list\n",
    "    def add_children(self, node, total_vertices, index):\n",
    "        if total_vertices == 0:\n",
    "            return\n",
    "        for x in range(total_vertices):\n",
    "            temp_lis = copy.deepcopy(node.ret_data())\n",
    "            temp_lis[index], temp_lis[x] = temp_lis[x], temp_lis[index]\n",
    "            node.addChild(temp_lis)\n",
    "\n",
    "        x = 0\n",
    "        child_list = node.return_child()\n",
    "        while x < len(child_list):\n",
    "            self.add_children(child_list[x], total_vertices - 1, index + 1)\n",
    "            x += 1\n",
    "\n",
    "    def createTree(self, no_vertices):\n",
    "        self.add_children(self.root, no_vertices, 0)\n",
    "\n",
    "    # BFS Function\n",
    "    def bfs(self):\n",
    "        visited = []\n",
    "        fringe = []\n",
    "        fringe.append(self.root)\n",
    "        minimum_node_cost = 1000000000\n",
    "        minimum_ordering = []\n",
    "        while fringe:  # Creating loop to visit each node\n",
    "            m = fringe.pop(0)\n",
    "            cost = minimum_cost(m.ret_data())\n",
    "            if cost < minimum_node_cost:\n",
    "                minimum_node_cost = cost\n",
    "                minimum_ordering = m.ret_data()\n",
    "\n",
    "            for neighbour in m.return_child():\n",
    "                if neighbour not in visited:\n",
    "                    visited.append(neighbour)\n",
    "                    fringe.append(neighbour)\n",
    "        print(f\"Ordering from bfs {minimum_ordering} gives the minimum cost i.e. {minimum_node_cost}\")\n",
    "\n",
    "    # Functions for dfs\n",
    "    def dfs_algorithm(self, visited, node):  # function for dfs\n",
    "        if node not in visited:\n",
    "            cost = minimum_cost(node.ret_data())\n",
    "            if cost < float(self.minimum_cost_dfs):\n",
    "                self.minimum_cost_dfs = cost\n",
    "                self.minimum_order_dfs = node.ret_data()\n",
    "            visited.append(node)\n",
    "            for neighbour in node.return_child():\n",
    "                self.dfs_algorithm(visited, neighbour)\n",
    "            return\n",
    "\n",
    "    def dfs(self):\n",
    "        self.dfs_algorithm([], self.root)\n",
    "        print(f\"Ordering from dfs {self.minimum_order_dfs} gives the minimum cost i.e. {self.minimum_cost_dfs}\")\n"
   ]
  },
  {
   "cell_type": "code",
   "execution_count": 9,
   "id": "b82b9550",
   "metadata": {},
   "outputs": [
    {
     "name": "stdout",
     "output_type": "stream",
     "text": [
      "Ordering from bfs ['4', '2', '5', '3', '1'] gives the minimum cost i.e. 465.43399999999997\n",
      "Ordering from dfs ['5', '4', '3', '1', '2'] gives the minimum cost i.e. 465.43399999999997\n"
     ]
    }
   ],
   "source": [
    "# Main Function\n",
    "if __name__ == \"__main__\":\n",
    "    ordering = copy.deepcopy(vertices)\n",
    "    tree = Tree()\n",
    "    tree.addRoot(ordering)\n",
    "    tree.createTree(len(vertices))\n",
    "    tree.bfs()\n",
    "    tree.dfs()\n"
   ]
  },
  {
   "cell_type": "code",
   "execution_count": null,
   "id": "2b3bec31",
   "metadata": {},
   "outputs": [],
   "source": []
  }
 ],
 "metadata": {
  "kernelspec": {
   "display_name": "Python 3 (ipykernel)",
   "language": "python",
   "name": "python3"
  },
  "language_info": {
   "codemirror_mode": {
    "name": "ipython",
    "version": 3
   },
   "file_extension": ".py",
   "mimetype": "text/x-python",
   "name": "python",
   "nbconvert_exporter": "python",
   "pygments_lexer": "ipython3",
   "version": "3.9.7"
  }
 },
 "nbformat": 4,
 "nbformat_minor": 5
}
